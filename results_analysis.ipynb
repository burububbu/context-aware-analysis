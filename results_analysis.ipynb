{
 "cells": [
  {
   "cell_type": "markdown",
   "metadata": {},
   "source": [
    "# Results Analysis"
   ]
  },
  {
   "cell_type": "code",
   "execution_count": null,
   "metadata": {},
   "outputs": [],
   "source": [
    "%matplotlib inline\n",
    "import matplotlib.pyplot as plt\n",
    "import seaborn as sns\n",
    "import pandas as pd\n",
    "import numpy as np\n",
    "\n",
    "path = \"./results/\"\n",
    "ml_models = ['knn', 'rf', 'sgd']\n",
    "subset_types = ['base', 'complete', 'sub']\n",
    "preprocessing_types=['no_scaling', 'standard_scaling', 'minmax_scaling']\n",
    "\n",
    "# dpi = 100\n",
    "\n",
    "# init useful functions\n",
    "def grouped_bar_plot(x, y, hue, data, model_name, legend_pos='lower right'):\n",
    "    # plt.figure(dpi=dpi)\n",
    "\n",
    "    sns.set_style(style='darkgrid') \n",
    "    sns.barplot(x=x, y=y, hue=hue, data=data)\n",
    "    plt.legend(loc=legend_pos)\n",
    "\n",
    "    plt.ylabel(f\"{y.replace('_', ' ')} value\")\n",
    "    plt.xlabel(x.replace('_', ' '))\n",
    "    plt.title(f\"{model_name} scores\")\n",
    "\n",
    "def train_test_bar_plot(train_values, test_values, groups, score_type, title):\n",
    "\n",
    "    fig = plt.figure()\n",
    "\n",
    "    X = np.arange(0, len(groups)/2, 0.5)\n",
    "\n",
    "    ax = fig.add_axes([0,0,1,1])\n",
    "    \n",
    "    ax.bar(X + 0.00, train_values, width=0.20)\n",
    "    ax.bar(X + 0.20, test_values, width=0.20)\n",
    "    plt.xticks(X + 0.10, groups)\n",
    "\n",
    "    ax.legend(labels=['Train', 'Test'])\n",
    "    plt.xlabel('Preprocessing type')\n",
    "    plt.ylabel(score_type)\n",
    "\n",
    "    plt.title(title)\n"
   ]
  },
  {
   "cell_type": "markdown",
   "metadata": {},
   "source": [
    "## Classic machine learning models\n"
   ]
  },
  {
   "cell_type": "code",
   "execution_count": null,
   "metadata": {},
   "outputs": [],
   "source": [
    "ml_results = pd.DataFrame()\n",
    "\n",
    "for model_name in ml_models:\n",
    "    ml_results = ml_results.append(pd.read_csv(f'{path}{model_name}_results.csv'))\n",
    "\n",
    "ml_results = ml_results.drop(\"Unnamed: 0\",axis=1).reset_index(drop=True)\n",
    "\n",
    "ml_results.head(5)"
   ]
  },
  {
   "cell_type": "markdown",
   "metadata": {},
   "source": [
    "### K-Nearest Neighbors Regressor"
   ]
  },
  {
   "cell_type": "code",
   "execution_count": null,
   "metadata": {},
   "outputs": [],
   "source": [
    "knn_results=ml_results[ml_results['model_type'] == 'knn']\n",
    "grouped_bar_plot(x='dataset_type', y='r2_test', hue='preprocessing_type', data=knn_results, model_name='KNN regressor')"
   ]
  },
  {
   "cell_type": "code",
   "execution_count": null,
   "metadata": {},
   "outputs": [],
   "source": [
    "\n",
    "for set_type in subset_types:\n",
    "    result = [knn_results['dataset_type'] == set_type]\n",
    "    train_test_bar_plot(result['r2_train'], result['r2_test'], preprocessing_types, 'R2 score', f'SGD on {set_type} set R2 on train/test')\n",
    "    "
   ]
  },
  {
   "cell_type": "markdown",
   "metadata": {},
   "source": [
    "### Random forest regressor"
   ]
  },
  {
   "cell_type": "code",
   "execution_count": null,
   "metadata": {},
   "outputs": [],
   "source": [
    "rf_results = ml_results[ml_results['model_type'] == 'rf']\n",
    "grouped_bar_plot(x='dataset_type', y='r2_test', hue='preprocessing_type', data= rf_results, model_name='Random forest regressor')"
   ]
  },
  {
   "cell_type": "code",
   "execution_count": null,
   "metadata": {},
   "outputs": [],
   "source": [
    "for set_type in subset_types:\n",
    "    result = rf_results[rf_results['dataset_type'] == set_type]\n",
    "    train_test_bar_plot(result['r2_train'], result['r2_test'], preprocessing_types, 'R2 score', f'SGD on {set_type} set R2 on train/test')"
   ]
  },
  {
   "cell_type": "markdown",
   "metadata": {},
   "source": [
    "### Stochastic gradient descend regressor"
   ]
  },
  {
   "cell_type": "code",
   "execution_count": null,
   "metadata": {},
   "outputs": [],
   "source": [
    "sgd_results = ml_results[ml_results['model_type'] == 'sgd']\n",
    "grouped_bar_plot(x='dataset_type', y='r2_test', hue='preprocessing_type', data= sgd_results, model_name='SGD regressor', legend_pos=\"upper left\")"
   ]
  },
  {
   "cell_type": "code",
   "execution_count": null,
   "metadata": {},
   "outputs": [],
   "source": [
    "for set_type in subset_types:\n",
    "    result = sgd_results[sgd_results['dataset_type'] == set_type]\n",
    "    train_test_bar_plot(result['r2_train'], result['r2_test'], preprocessing_types, 'R2 score', f'SGD on {set_type} set R2 on train/test')"
   ]
  },
  {
   "cell_type": "markdown",
   "metadata": {},
   "source": [
    "## Neural networks results"
   ]
  },
  {
   "cell_type": "code",
   "execution_count": null,
   "metadata": {},
   "outputs": [],
   "source": [
    "nn_results = pd.DataFrame()\n",
    "\n",
    "for subset_type in subset_types:\n",
    "    ml_results = ml_results.append(pd.read_csv(f'{path}{model_name}_results.csv'))\n",
    "\n",
    "ml_results = ml_results.drop(\"Unnamed: 0\",axis=1).reset_index(drop=True)\n",
    "\n",
    "ml_results.head(5)"
   ]
  }
 ],
 "metadata": {
  "interpreter": {
   "hash": "d4127b179aa0bb31a49b22e75037871e1b5b9dc88b373cb715669f17b3e2dfe7"
  },
  "kernelspec": {
   "display_name": "Python 3 (ipykernel)",
   "language": "python",
   "name": "python3"
  },
  "language_info": {
   "codemirror_mode": {
    "name": "ipython",
    "version": 3
   },
   "file_extension": ".py",
   "mimetype": "text/x-python",
   "name": "python",
   "nbconvert_exporter": "python",
   "pygments_lexer": "ipython3",
   "version": "3.10.0"
  }
 },
 "nbformat": 4,
 "nbformat_minor": 2
}
