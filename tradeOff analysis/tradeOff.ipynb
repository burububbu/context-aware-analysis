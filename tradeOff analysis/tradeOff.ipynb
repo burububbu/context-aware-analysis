{
 "cells": [
  {
   "cell_type": "markdown",
   "metadata": {},
   "source": [
    "# Privacy-QoS Trade-Off Analysis"
   ]
  },
  {
   "cell_type": "code",
   "execution_count": 684,
   "metadata": {},
   "outputs": [],
   "source": [
    "import os\n",
    "import pandas as pd\n",
    "import numpy as np\n",
    "import matplotlib.pyplot as plt"
   ]
  },
  {
   "cell_type": "markdown",
   "metadata": {},
   "source": [
    "Define method to get sub-datasets of the main dataset"
   ]
  },
  {
   "cell_type": "code",
   "execution_count": 685,
   "metadata": {},
   "outputs": [],
   "source": [
    "def getSubDatasets(df):\n",
    "    firstDf = df[(df[\"dummyLocation\"]==False) & (df[\"gpsPerturbated\"]==True)].reset_index(drop=True)\n",
    "    secondDf = df[(df[\"dummyLocation\"]==True) & (df[\"gpsPerturbated\"]==False)].reset_index(drop=True)\n",
    "    thirdDf = df[(df[\"dummyLocation\"]==True) & (df[\"gpsPerturbated\"]==True)].reset_index(drop=True)\n",
    "\n",
    "    return [firstDf, secondDf, thirdDf]"
   ]
  },
  {
   "cell_type": "markdown",
   "metadata": {},
   "source": [
    "Import privacy and qos datasets, define alphas"
   ]
  },
  {
   "cell_type": "code",
   "execution_count": 686,
   "metadata": {},
   "outputs": [],
   "source": [
    "privacyDf = pd.read_csv((os.path.join('csvs', f'average_distances.csv')), index_col=[0])\n",
    "qosDf = pd.read_csv((os.path.join('csvs', f'qos.csv')), index_col=[0])\n",
    "\n",
    "alphas = [0, 0.2, 0.4, 0.6, 0.8, 1]\n",
    "\n",
    "privacySubDf = getSubDatasets(privacyDf)\n",
    "qosSubDf = getSubDatasets(qosDf)"
   ]
  },
  {
   "cell_type": "markdown",
   "metadata": {},
   "source": [
    "Linear combination to achieve the tradeoff between privacy and qos"
   ]
  },
  {
   "cell_type": "code",
   "execution_count": 687,
   "metadata": {},
   "outputs": [],
   "source": [
    "def linearCombination(alpha, privacy, qos):\n",
    "    return alpha * privacy + (1-alpha) * qos"
   ]
  },
  {
   "cell_type": "markdown",
   "metadata": {},
   "source": [
    "Define min-max scaling function"
   ]
  },
  {
   "cell_type": "code",
   "execution_count": 688,
   "metadata": {},
   "outputs": [],
   "source": [
    "def minMaxScaling(df):\n",
    "    min = np.min(df)\n",
    "    max = np.max(df)\n",
    "\n",
    "    return (df - min) / (max - min)"
   ]
  },
  {
   "cell_type": "markdown",
   "metadata": {},
   "source": [
    "\n",
    "Min-max scaling of privacy and qos values of the main dataset"
   ]
  },
  {
   "cell_type": "code",
   "execution_count": 689,
   "metadata": {},
   "outputs": [],
   "source": [
    "pValues = privacyDf[\"avg\"]\n",
    "qosValues = pd.Series([pow(el, -1) for el in qosDf[\"mse\"]])\n",
    "\n",
    "privacyScaled = minMaxScaling(pValues)\n",
    "qosScaled = minMaxScaling(qosValues)"
   ]
  },
  {
   "cell_type": "markdown",
   "metadata": {},
   "source": [
    "\n",
    "Min-max scaling of privacy and qos values of the sub-datasets"
   ]
  },
  {
   "cell_type": "code",
   "execution_count": 690,
   "metadata": {},
   "outputs": [],
   "source": [
    "pSubDfValues = [df[\"avg\"] for df in privacySubDf]\n",
    "qosSubDfValues = [pd.Series([pow(el, -1) for el in df[\"mse\"]]) for df in qosSubDf]\n",
    "\n",
    "privacySDScaled = [minMaxScaling(values) for values in pSubDfValues]\n",
    "qosSDScaled = [minMaxScaling(values) for values in qosSubDfValues]"
   ]
  },
  {
   "cell_type": "markdown",
   "metadata": {},
   "source": [
    "Define trade-off getter"
   ]
  },
  {
   "cell_type": "code",
   "execution_count": 691,
   "metadata": {},
   "outputs": [],
   "source": [
    "def getTradeOff(df1, df2, mainDf):\n",
    "    dfs = [pd.DataFrame([linearCombination(alpha, val, df2[ind]) for ind, val in enumerate(df1)], columns=[\"values\"]) for alpha in alphas]\n",
    "\n",
    "    tradeOff = [np.max(df[\"values\"]) for df in dfs]\n",
    "    \n",
    "    for i, df in enumerate(dfs):\n",
    "        ind, = df.index[df[\"values\"]==np.max(df[\"values\"])]\n",
    "        print(\"Alpha: \", alphas[i], \"\\tPrivacy-QoS tradeoff: \", mainDf[\"dumRadMin\"][ind], \" - \", mainDf[\"dumRadStep\"][ind], \" - \", mainDf[\"pertDec\"][ind])\n",
    "\n",
    "    return tradeOff"
   ]
  },
  {
   "cell_type": "markdown",
   "metadata": {},
   "source": [
    "Compute Privacy-QoS trade-off"
   ]
  },
  {
   "cell_type": "code",
   "execution_count": 692,
   "metadata": {},
   "outputs": [
    {
     "name": "stdout",
     "output_type": "stream",
     "text": [
      "----------Complete Dataset----------\n",
      "Alpha:  0 \tPrivacy-QoS tradeoff:  -1  -  -1  -  5\n",
      "Alpha:  0.2 \tPrivacy-QoS tradeoff:  -1  -  -1  -  5\n",
      "Alpha:  0.4 \tPrivacy-QoS tradeoff:  -1  -  -1  -  5\n",
      "Alpha:  0.6 \tPrivacy-QoS tradeoff:  3000  -  2000  -  1\n",
      "Alpha:  0.8 \tPrivacy-QoS tradeoff:  3000  -  2000  -  1\n",
      "Alpha:  1 \tPrivacy-QoS tradeoff:  3000  -  2000  -  1\n",
      "----------Sub-dataset 1 ----------\n",
      "Alpha:  0 \tPrivacy-QoS tradeoff:  -1  -  -1  -  5\n",
      "Alpha:  0.2 \tPrivacy-QoS tradeoff:  -1  -  -1  -  5\n",
      "Alpha:  0.4 \tPrivacy-QoS tradeoff:  -1  -  -1  -  5\n",
      "Alpha:  0.6 \tPrivacy-QoS tradeoff:  -1  -  -1  -  1\n",
      "Alpha:  0.8 \tPrivacy-QoS tradeoff:  -1  -  -1  -  1\n",
      "Alpha:  1 \tPrivacy-QoS tradeoff:  -1  -  -1  -  1\n",
      "----------Sub-dataset 2 ----------\n",
      "Alpha:  0 \tPrivacy-QoS tradeoff:  500  -  250  -  -1\n",
      "Alpha:  0.2 \tPrivacy-QoS tradeoff:  500  -  250  -  -1\n",
      "Alpha:  0.4 \tPrivacy-QoS tradeoff:  500  -  250  -  -1\n",
      "Alpha:  0.6 \tPrivacy-QoS tradeoff:  3000  -  2000  -  -1\n",
      "Alpha:  0.8 \tPrivacy-QoS tradeoff:  3000  -  2000  -  -1\n",
      "Alpha:  1 \tPrivacy-QoS tradeoff:  3000  -  2000  -  -1\n",
      "----------Sub-dataset 3 ----------\n",
      "Alpha:  0 \tPrivacy-QoS tradeoff:  500  -  250  -  5\n",
      "Alpha:  0.2 \tPrivacy-QoS tradeoff:  500  -  250  -  5\n",
      "Alpha:  0.4 \tPrivacy-QoS tradeoff:  500  -  250  -  5\n",
      "Alpha:  0.6 \tPrivacy-QoS tradeoff:  3000  -  2000  -  1\n",
      "Alpha:  0.8 \tPrivacy-QoS tradeoff:  3000  -  2000  -  1\n",
      "Alpha:  1 \tPrivacy-QoS tradeoff:  3000  -  2000  -  1\n"
     ]
    }
   ],
   "source": [
    "print(\"----------Complete Dataset----------\")\n",
    "privacyQos = getTradeOff(privacyScaled, qosScaled, qosDf)\n",
    "\n",
    "privacyQosSD = []\n",
    "for ind, df1 in enumerate(privacySDScaled):\n",
    "    print(\"----------Sub-dataset\", ind+1,\"----------\")\n",
    "    privacyQosSD.append(getTradeOff(df1, qosSDScaled[ind], qosSubDf[ind]))"
   ]
  },
  {
   "cell_type": "markdown",
   "metadata": {},
   "source": [
    "Plot of the Privacy-QoS analysis"
   ]
  },
  {
   "cell_type": "code",
   "execution_count": 693,
   "metadata": {},
   "outputs": [
    {
     "data": {
      "image/png": "[encoded data removed]",
      "text/plain": [
       "<Figure size 432x288 with 1 Axes>"
      ]
     },
     "metadata": {
      "needs_background": "light"
     },
     "output_type": "display_data"
    }
   ],
   "source": [
    "plt.plot(alphas, privacyQos)\n",
    "plt.title(\"Privacy-QoS Analysis\")\n",
    "plt.xlabel(\"alpha\")\n",
    "plt.ylabel(\"Trade-Off\")\n",
    "plt.show()"
   ]
  }
 ],
 "metadata": {
  "interpreter": {
   "hash": "a9eb795b1bf30170c9f728e2d3a5f7ec94509b7e5609e897fa412515e95e6380"
  },
  "kernelspec": {
   "display_name": "Python 3.9.6 64-bit",
   "language": "python",
   "name": "python3"
  },
  "language_info": {
   "codemirror_mode": {
    "name": "ipython",
    "version": 3
   },
   "file_extension": ".py",
   "mimetype": "text/x-python",
   "name": "python",
   "nbconvert_exporter": "python",
   "pygments_lexer": "ipython3",
   "version": "3.9.6"
  },
  "orig_nbformat": 4
 },
 "nbformat": 4,
 "nbformat_minor": 2
}
